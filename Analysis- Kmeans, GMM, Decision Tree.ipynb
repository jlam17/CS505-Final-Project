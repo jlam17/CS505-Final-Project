{
 "cells": [
  {
   "cell_type": "code",
   "execution_count": 1,
   "metadata": {
    "collapsed": false
   },
   "outputs": [],
   "source": [
    "%matplotlib inline\n",
    "import pandas as pd\n",
    "import json\n",
    "import numpy as np\n",
    "import matplotlib.pyplot as plt \n",
    "import os\n",
    "import pydotplus\n",
    "\n",
    "from sklearn import tree\n",
    "from sklearn.cluster import KMeans\n",
    "from sklearn.mixture import GaussianMixture\n",
    "from sklearn import preprocessing\n",
    "from sklearn import metrics \n",
    "\n",
    "from collections import defaultdict\n",
    "from collections import Counter\n",
    "\n",
    "from IPython.display import Image  "
   ]
  },
  {
   "cell_type": "code",
   "execution_count": 2,
   "metadata": {
    "collapsed": false
   },
   "outputs": [],
   "source": [
    "# Master dataframe containg all possible columns \n",
    "df_master = pd.read_pickle('master_location.pkl')\n",
    "df_master = df_master.dropna()\n",
    "df_master = df_master[df_master.longitude < -157.5]\n",
    "df_master = df_master.groupby('area').filter(lambda x: len(x) >= 10)"
   ]
  },
  {
   "cell_type": "code",
   "execution_count": 3,
   "metadata": {
    "collapsed": false
   },
   "outputs": [
    {
     "data": {
      "text/html": [
       "<div>\n",
       "<table border=\"1\" class=\"dataframe\">\n",
       "  <thead>\n",
       "    <tr style=\"text-align: right;\">\n",
       "      <th></th>\n",
       "      <th>type</th>\n",
       "      <th>type_code</th>\n",
       "    </tr>\n",
       "  </thead>\n",
       "  <tbody>\n",
       "    <tr>\n",
       "      <th>4333</th>\n",
       "      <td>MOTOR VEHICLE COLLISION</td>\n",
       "      <td>1</td>\n",
       "    </tr>\n",
       "    <tr>\n",
       "      <th>4332</th>\n",
       "      <td>MOTOR VEHICLE COLLISION - TOWED</td>\n",
       "      <td>2</td>\n",
       "    </tr>\n",
       "    <tr>\n",
       "      <th>4331</th>\n",
       "      <td>MOTOR VEHICLE COLLISION</td>\n",
       "      <td>1</td>\n",
       "    </tr>\n",
       "    <tr>\n",
       "      <th>4330</th>\n",
       "      <td>MOTOR VEHICLE COLLISION</td>\n",
       "      <td>1</td>\n",
       "    </tr>\n",
       "    <tr>\n",
       "      <th>4329</th>\n",
       "      <td>TRAFFIC NUISANCE OR PARKING VIOLATION</td>\n",
       "      <td>5</td>\n",
       "    </tr>\n",
       "  </tbody>\n",
       "</table>\n",
       "</div>"
      ],
      "text/plain": [
       "                                       type  type_code\n",
       "4333                MOTOR VEHICLE COLLISION          1\n",
       "4332        MOTOR VEHICLE COLLISION - TOWED          2\n",
       "4331                MOTOR VEHICLE COLLISION          1\n",
       "4330                MOTOR VEHICLE COLLISION          1\n",
       "4329  TRAFFIC NUISANCE OR PARKING VIOLATION          5"
      ]
     },
     "execution_count": 3,
     "metadata": {},
     "output_type": "execute_result"
    }
   ],
   "source": [
    "# True classification of data points\n",
    "df_truth = df_master['type'].astype('category').to_frame()\n",
    "df_truth = df_truth.dropna()\n",
    "df_truth['type_code'] = df_truth['type'].cat.codes\n",
    "df_truth.head()"
   ]
  },
  {
   "cell_type": "code",
   "execution_count": 4,
   "metadata": {
    "collapsed": false,
    "scrolled": true
   },
   "outputs": [],
   "source": [
    "# Frequency of incidents by area \n",
    "# df_master = df_master.groupby('area').filter(lambda x: len(x) >= 10)\n",
    "# df_master.area.value_counts().plot.bar()"
   ]
  },
  {
   "cell_type": "code",
   "execution_count": 5,
   "metadata": {
    "collapsed": false
   },
   "outputs": [],
   "source": [
    "# df = pd.DataFrame()\n",
    "# Categorizing streets with binary values\n",
    "def street(d):\n",
    "    if d['freeway'] == 0 and d['highway'] == 0:\n",
    "        return 1 \n",
    "    else:\n",
    "        return 0\n",
    "# Categorizing freeways, highways, and streets\n",
    "df_master['freeway'] = np.where(df_master['address'].str.contains('FWY|H1|H2|H3')==True, 1,0)\n",
    "df_master['highway'] = np.where(df_master['address'].str.contains('HWY')==True, 1,0)\n",
    "df_master['street'] = df_master.apply(street,axis=1)"
   ]
  },
  {
   "cell_type": "code",
   "execution_count": 6,
   "metadata": {
    "collapsed": false,
    "scrolled": true
   },
   "outputs": [],
   "source": [
    "# Categorizing streets with strings \n",
    "def location(d):\n",
    "    address = d['address']\n",
    "    if 'FWY|H1|H2|H3' in address:\n",
    "        return 'freeway'\n",
    "    elif 'HWY' in address:\n",
    "        return 'highway'\n",
    "    else:\n",
    "        return 'street'\n",
    "df_master['road_type'] = df_master.apply(location, axis=1) "
   ]
  },
  {
   "cell_type": "code",
   "execution_count": 7,
   "metadata": {
    "collapsed": false,
    "scrolled": true
   },
   "outputs": [],
   "source": [
    "# Categorizing accident types into binary values\n",
    "type_dummies = pd.get_dummies(df_master['type'])\n",
    "df_master = pd.concat([df_master,type_dummies], axis = 1)"
   ]
  },
  {
   "cell_type": "code",
   "execution_count": 8,
   "metadata": {
    "collapsed": false,
    "scrolled": true
   },
   "outputs": [],
   "source": [
    "# Categorizing accident areas into binary values\n",
    "area_dummies = pd.get_dummies(df_master['area'])\n",
    "df_master = pd.concat([df_master,area_dummies], axis = 1)"
   ]
  },
  {
   "cell_type": "code",
   "execution_count": 9,
   "metadata": {
    "collapsed": false,
    "scrolled": true
   },
   "outputs": [],
   "source": [
    "# Categorizing accident day of the week into binary values\n",
    "dayofweek_dummies = pd.get_dummies(df_master['dayofweek_name'])\n",
    "df_master = pd.concat([df_master, dayofweek_dummies], axis=1)"
   ]
  },
  {
   "cell_type": "code",
   "execution_count": 10,
   "metadata": {
    "collapsed": false
   },
   "outputs": [],
   "source": [
    "# Categorizing accident by hour of the day into binary values\n",
    "hourofday_dummies = pd.get_dummies(df_master['hour'])\n",
    "df_master = pd.concat([df_master, hourofday_dummies], axis=1)"
   ]
  },
  {
   "cell_type": "code",
   "execution_count": 11,
   "metadata": {
    "collapsed": false
   },
   "outputs": [],
   "source": [
    "# Categorizing weekday or weekend into binary values\n",
    "weekend = ['Friday','Saturday','Sunday']\n",
    "df_master['weekend'] = np.where(df_master['dayofweek_name'].isin(weekend), 1,  0)"
   ]
  },
  {
   "cell_type": "code",
   "execution_count": 12,
   "metadata": {
    "collapsed": false
   },
   "outputs": [],
   "source": [
    "# Categorizing hours of the day into strings\n",
    "def timeofday(d):\n",
    "    hour = d['hour']\n",
    "    if hour >= 23 or hour < 5: return 'late night'\n",
    "    elif hour >=5 and hour < 10: return 'morning'\n",
    "    elif hour >=10 and hour < 15: return 'mid-day'\n",
    "    elif hour >=15 and hour < 19: return 'dusk'\n",
    "    elif hour >=19 and hour < 23: return 'night'\n",
    "df_master['timeofday'] = df_master.apply(timeofday,axis=1)"
   ]
  },
  {
   "cell_type": "code",
   "execution_count": 13,
   "metadata": {
    "collapsed": false
   },
   "outputs": [],
   "source": [
    "# Categorizing times of the into binary values\n",
    "timeofday_dummies = pd.get_dummies(df_master['timeofday'])\n",
    "df_master = pd.concat([df_master, timeofday_dummies],axis=1)"
   ]
  },
  {
   "cell_type": "markdown",
   "metadata": {},
   "source": [
    "# Clustering "
   ]
  },
  {
   "cell_type": "code",
   "execution_count": 14,
   "metadata": {
    "collapsed": false
   },
   "outputs": [],
   "source": [
    "# Error of clusters\n",
    "def evaluate_clusters(X,max_clusters):\n",
    "    error = np.zeros(max_clusters+1)\n",
    "    error[0] = 0;\n",
    "    for k in range(1,max_clusters+1):\n",
    "        kmeans = KMeans(init='k-means++', n_clusters=k, n_init=10)\n",
    "        kmeans.fit_predict(X)\n",
    "        error[k] = kmeans.inertia_\n",
    "\n",
    "    plt.plot(range(1,len(error)),error[1:])\n",
    "    plt.xlabel('Number of clusters')\n",
    "    plt.ylabel('Error')\n",
    "    \n",
    "# Adjusted Random Index Score\n",
    "def ri_evaluate_clusters(X,max_clusters,ground_truth):\n",
    "    ri = np.zeros(max_clusters+1)\n",
    "    ri[0] = 0;\n",
    "    for k in range(1,max_clusters+1):\n",
    "        kmeans = KMeans(init='k-means++', n_clusters=k, n_init=10)\n",
    "        kmeans.fit_predict(X)\n",
    "        ri[k] = metrics.adjusted_rand_score(kmeans.labels_,ground_truth)\n",
    "    plt.plot(range(1,len(ri)),ri[1:])\n",
    "    plt.xlabel('Number of clusters')\n",
    "    plt.ylabel('Adjusted Rand Index')\n",
    "\n",
    "# Plotting clusters \n",
    "def graph(x, y, l, name):\n",
    "    '''\n",
    "    Referncing points by their index in a series\n",
    "    x: pd.Series\n",
    "    y: pd.Series\n",
    "    label: pd.Series\n",
    "    '''\n",
    "    x_coord = real_longitude\n",
    "    y_coord = real_latitude\n",
    "    labels = l\n",
    "    colors = ['orange', 'cyan', 'darkgreen', 'red', 'blue', 'yellow', 'purple', 'black','brown', 'olive', 'grey', 'pink']\n",
    "\n",
    "    plt.figure(figsize=(12,10))\n",
    "    for idx, label in labels.iteritems():\n",
    "        plt.scatter(x_coord[idx], y_coord[idx], color = colors[label])\n",
    "    plt.savefig('graphs/' + name + '.png')\n",
    "    "
   ]
  },
  {
   "cell_type": "markdown",
   "metadata": {},
   "source": [
    "# K-Means Clustering By Day of the Week and Location"
   ]
  },
  {
   "cell_type": "code",
   "execution_count": 15,
   "metadata": {
    "collapsed": false,
    "scrolled": true
   },
   "outputs": [],
   "source": [
    "# Clustering based only on collisions \n",
    "collisions = ['HAZARDOUS DRIVER', 'MOTOR VEHICLE COLLISION','MOTOR VEHICLE COLLISION - TOWED']\n",
    "df_col = df_master.loc[df_master['type'].isin(collisions)]"
   ]
  },
  {
   "cell_type": "code",
   "execution_count": 16,
   "metadata": {
    "collapsed": false
   },
   "outputs": [
    {
     "data": {
      "text/html": [
       "<div>\n",
       "<table border=\"1\" class=\"dataframe\">\n",
       "  <thead>\n",
       "    <tr style=\"text-align: right;\">\n",
       "      <th></th>\n",
       "      <th>Monday</th>\n",
       "      <th>Tuesday</th>\n",
       "      <th>Wednesday</th>\n",
       "      <th>Thursday</th>\n",
       "      <th>Friday</th>\n",
       "      <th>Saturday</th>\n",
       "      <th>Sunday</th>\n",
       "      <th>norm_latitude</th>\n",
       "      <th>norm_longitude</th>\n",
       "    </tr>\n",
       "  </thead>\n",
       "  <tbody>\n",
       "    <tr>\n",
       "      <th>4333</th>\n",
       "      <td>1.0</td>\n",
       "      <td>0.0</td>\n",
       "      <td>0.0</td>\n",
       "      <td>0.0</td>\n",
       "      <td>0.0</td>\n",
       "      <td>0.0</td>\n",
       "      <td>0.0</td>\n",
       "      <td>-0.127076</td>\n",
       "      <td>0.454946</td>\n",
       "    </tr>\n",
       "    <tr>\n",
       "      <th>4332</th>\n",
       "      <td>1.0</td>\n",
       "      <td>0.0</td>\n",
       "      <td>0.0</td>\n",
       "      <td>0.0</td>\n",
       "      <td>0.0</td>\n",
       "      <td>0.0</td>\n",
       "      <td>0.0</td>\n",
       "      <td>-0.793117</td>\n",
       "      <td>0.461611</td>\n",
       "    </tr>\n",
       "    <tr>\n",
       "      <th>4331</th>\n",
       "      <td>1.0</td>\n",
       "      <td>0.0</td>\n",
       "      <td>0.0</td>\n",
       "      <td>0.0</td>\n",
       "      <td>0.0</td>\n",
       "      <td>0.0</td>\n",
       "      <td>0.0</td>\n",
       "      <td>-1.021062</td>\n",
       "      <td>0.903951</td>\n",
       "    </tr>\n",
       "    <tr>\n",
       "      <th>4330</th>\n",
       "      <td>1.0</td>\n",
       "      <td>0.0</td>\n",
       "      <td>0.0</td>\n",
       "      <td>0.0</td>\n",
       "      <td>0.0</td>\n",
       "      <td>0.0</td>\n",
       "      <td>0.0</td>\n",
       "      <td>-1.098472</td>\n",
       "      <td>1.133842</td>\n",
       "    </tr>\n",
       "    <tr>\n",
       "      <th>4329</th>\n",
       "      <td>1.0</td>\n",
       "      <td>0.0</td>\n",
       "      <td>0.0</td>\n",
       "      <td>0.0</td>\n",
       "      <td>0.0</td>\n",
       "      <td>0.0</td>\n",
       "      <td>0.0</td>\n",
       "      <td>1.524431</td>\n",
       "      <td>-0.957896</td>\n",
       "    </tr>\n",
       "  </tbody>\n",
       "</table>\n",
       "</div>"
      ],
      "text/plain": [
       "      Monday  Tuesday  Wednesday  Thursday  Friday  Saturday  Sunday  \\\n",
       "4333     1.0      0.0        0.0       0.0     0.0       0.0     0.0   \n",
       "4332     1.0      0.0        0.0       0.0     0.0       0.0     0.0   \n",
       "4331     1.0      0.0        0.0       0.0     0.0       0.0     0.0   \n",
       "4330     1.0      0.0        0.0       0.0     0.0       0.0     0.0   \n",
       "4329     1.0      0.0        0.0       0.0     0.0       0.0     0.0   \n",
       "\n",
       "      norm_latitude  norm_longitude  \n",
       "4333      -0.127076        0.454946  \n",
       "4332      -0.793117        0.461611  \n",
       "4331      -1.021062        0.903951  \n",
       "4330      -1.098472        1.133842  \n",
       "4329       1.524431       -0.957896  "
      ]
     },
     "execution_count": 16,
     "metadata": {},
     "output_type": "execute_result"
    }
   ],
   "source": [
    "# Create data frame for clustering by day of the week and longitude and latitude\n",
    "columns = ['latitude','longitude']\n",
    "columns += ['Monday','Tuesday','Wednesday','Thursday']\n",
    "columns += ['Friday','Saturday','Sunday']\n",
    "df_day = df_master[columns]\n",
    "df_day = df_day.dropna()\n",
    "\n",
    "# Normalize longitude and latitude \n",
    "scale = preprocessing.StandardScaler().fit(df_day[['longitude','latitude']])\n",
    "df_std= scale.transform(df_day[['longitude','latitude']])\n",
    "longitude, latitude = zip(*df_std)\n",
    "df_day['norm_latitude'] = list(latitude)\n",
    "df_day['norm_longitude'] = list(longitude)\n",
    "\n",
    "# Actual latitude and longitude are kept for plotting purposes\n",
    "real_longitude = df_day['longitude']\n",
    "real_latitude = df_day['latitude']\n",
    "df_day = df_day.drop(['latitude','longitude'],axis=1)\n",
    "df_day.head()"
   ]
  },
  {
   "cell_type": "code",
   "execution_count": 17,
   "metadata": {
    "collapsed": false
   },
   "outputs": [
    {
     "data": {
      "image/png": "[encoded data removed]",
      "text/plain": [
       "<matplotlib.figure.Figure at 0x7f99962ba630>"
      ]
     },
     "metadata": {},
     "output_type": "display_data"
    }
   ],
   "source": [
    "evaluate_clusters(df_day, 30)"
   ]
  },
  {
   "cell_type": "code",
   "execution_count": 18,
   "metadata": {
    "collapsed": false
   },
   "outputs": [
    {
     "data": {
      "image/png": "[encoded data removed]",
      "text/plain": [
       "<matplotlib.figure.Figure at 0x7f9994ab4eb8>"
      ]
     },
     "metadata": {},
     "output_type": "display_data"
    }
   ],
   "source": [
    "ri_evaluate_clusters(df_day, 30,df_truth['type_code'])"
   ]
  },
  {
   "cell_type": "code",
   "execution_count": 19,
   "metadata": {
    "collapsed": false
   },
   "outputs": [
    {
     "data": {
      "text/html": [
       "<div>\n",
       "<table border=\"1\" class=\"dataframe\">\n",
       "  <thead>\n",
       "    <tr style=\"text-align: right;\">\n",
       "      <th></th>\n",
       "      <th>Monday</th>\n",
       "      <th>Tuesday</th>\n",
       "      <th>Wednesday</th>\n",
       "      <th>Thursday</th>\n",
       "      <th>Friday</th>\n",
       "      <th>Saturday</th>\n",
       "      <th>Sunday</th>\n",
       "      <th>norm_latitude</th>\n",
       "      <th>norm_longitude</th>\n",
       "      <th>label</th>\n",
       "    </tr>\n",
       "  </thead>\n",
       "  <tbody>\n",
       "    <tr>\n",
       "      <th>4333</th>\n",
       "      <td>1.0</td>\n",
       "      <td>0.0</td>\n",
       "      <td>0.0</td>\n",
       "      <td>0.0</td>\n",
       "      <td>0.0</td>\n",
       "      <td>0.0</td>\n",
       "      <td>0.0</td>\n",
       "      <td>-0.127076</td>\n",
       "      <td>0.454946</td>\n",
       "      <td>0</td>\n",
       "    </tr>\n",
       "    <tr>\n",
       "      <th>4332</th>\n",
       "      <td>1.0</td>\n",
       "      <td>0.0</td>\n",
       "      <td>0.0</td>\n",
       "      <td>0.0</td>\n",
       "      <td>0.0</td>\n",
       "      <td>0.0</td>\n",
       "      <td>0.0</td>\n",
       "      <td>-0.793117</td>\n",
       "      <td>0.461611</td>\n",
       "      <td>0</td>\n",
       "    </tr>\n",
       "    <tr>\n",
       "      <th>4331</th>\n",
       "      <td>1.0</td>\n",
       "      <td>0.0</td>\n",
       "      <td>0.0</td>\n",
       "      <td>0.0</td>\n",
       "      <td>0.0</td>\n",
       "      <td>0.0</td>\n",
       "      <td>0.0</td>\n",
       "      <td>-1.021062</td>\n",
       "      <td>0.903951</td>\n",
       "      <td>0</td>\n",
       "    </tr>\n",
       "    <tr>\n",
       "      <th>4330</th>\n",
       "      <td>1.0</td>\n",
       "      <td>0.0</td>\n",
       "      <td>0.0</td>\n",
       "      <td>0.0</td>\n",
       "      <td>0.0</td>\n",
       "      <td>0.0</td>\n",
       "      <td>0.0</td>\n",
       "      <td>-1.098472</td>\n",
       "      <td>1.133842</td>\n",
       "      <td>0</td>\n",
       "    </tr>\n",
       "    <tr>\n",
       "      <th>4329</th>\n",
       "      <td>1.0</td>\n",
       "      <td>0.0</td>\n",
       "      <td>0.0</td>\n",
       "      <td>0.0</td>\n",
       "      <td>0.0</td>\n",
       "      <td>0.0</td>\n",
       "      <td>0.0</td>\n",
       "      <td>1.524431</td>\n",
       "      <td>-0.957896</td>\n",
       "      <td>4</td>\n",
       "    </tr>\n",
       "  </tbody>\n",
       "</table>\n",
       "</div>"
      ],
      "text/plain": [
       "      Monday  Tuesday  Wednesday  Thursday  Friday  Saturday  Sunday  \\\n",
       "4333     1.0      0.0        0.0       0.0     0.0       0.0     0.0   \n",
       "4332     1.0      0.0        0.0       0.0     0.0       0.0     0.0   \n",
       "4331     1.0      0.0        0.0       0.0     0.0       0.0     0.0   \n",
       "4330     1.0      0.0        0.0       0.0     0.0       0.0     0.0   \n",
       "4329     1.0      0.0        0.0       0.0     0.0       0.0     0.0   \n",
       "\n",
       "      norm_latitude  norm_longitude  label  \n",
       "4333      -0.127076        0.454946      0  \n",
       "4332      -0.793117        0.461611      0  \n",
       "4331      -1.021062        0.903951      0  \n",
       "4330      -1.098472        1.133842      0  \n",
       "4329       1.524431       -0.957896      4  "
      ]
     },
     "execution_count": 19,
     "metadata": {},
     "output_type": "execute_result"
    }
   ],
   "source": [
    "# K-means clusterings \n",
    "k = 6\n",
    "kmeans = KMeans(n_clusters=k)\n",
    "kmeans.fit_predict(df_day)\n",
    "centroids = kmeans.cluster_centers_\n",
    "labels = kmeans.labels_\n",
    "error = kmeans.inertia_\n",
    "df_day['label'] = labels\n",
    "df_day.head()"
   ]
  },
  {
   "cell_type": "code",
   "execution_count": 20,
   "metadata": {
    "collapsed": false,
    "scrolled": false
   },
   "outputs": [
    {
     "data": {
      "image/png": "[encoded data removed]",
      "text/plain": [
       "<matplotlib.figure.Figure at 0x7f99950f8cc0>"
      ]
     },
     "metadata": {},
     "output_type": "display_data"
    }
   ],
   "source": [
    "# Graphing clusters\n",
    "graph(real_longitude, real_latitude, df_day['label'], 'cluster_dayofweek')"
   ]
  },
  {
   "cell_type": "markdown",
   "metadata": {},
   "source": [
    "# K-Means Clustering By Hour of the Day and Location"
   ]
  },
  {
   "cell_type": "code",
   "execution_count": 21,
   "metadata": {
    "collapsed": false
   },
   "outputs": [
    {
     "data": {
      "text/html": [
       "<div>\n",
       "<table border=\"1\" class=\"dataframe\">\n",
       "  <thead>\n",
       "    <tr style=\"text-align: right;\">\n",
       "      <th></th>\n",
       "      <th>0</th>\n",
       "      <th>1</th>\n",
       "      <th>2</th>\n",
       "      <th>3</th>\n",
       "      <th>4</th>\n",
       "      <th>5</th>\n",
       "      <th>6</th>\n",
       "      <th>7</th>\n",
       "      <th>8</th>\n",
       "      <th>9</th>\n",
       "      <th>...</th>\n",
       "      <th>16</th>\n",
       "      <th>17</th>\n",
       "      <th>18</th>\n",
       "      <th>19</th>\n",
       "      <th>20</th>\n",
       "      <th>21</th>\n",
       "      <th>22</th>\n",
       "      <th>23</th>\n",
       "      <th>norm_latitude</th>\n",
       "      <th>norm_longitude</th>\n",
       "    </tr>\n",
       "  </thead>\n",
       "  <tbody>\n",
       "    <tr>\n",
       "      <th>4333</th>\n",
       "      <td>0.0</td>\n",
       "      <td>0.0</td>\n",
       "      <td>0.0</td>\n",
       "      <td>0.0</td>\n",
       "      <td>0.0</td>\n",
       "      <td>0.0</td>\n",
       "      <td>0.0</td>\n",
       "      <td>0.0</td>\n",
       "      <td>0.0</td>\n",
       "      <td>0.0</td>\n",
       "      <td>...</td>\n",
       "      <td>1.0</td>\n",
       "      <td>0.0</td>\n",
       "      <td>0.0</td>\n",
       "      <td>0.0</td>\n",
       "      <td>0.0</td>\n",
       "      <td>0.0</td>\n",
       "      <td>0.0</td>\n",
       "      <td>0.0</td>\n",
       "      <td>-0.127076</td>\n",
       "      <td>0.454946</td>\n",
       "    </tr>\n",
       "    <tr>\n",
       "      <th>4332</th>\n",
       "      <td>0.0</td>\n",
       "      <td>0.0</td>\n",
       "      <td>0.0</td>\n",
       "      <td>0.0</td>\n",
       "      <td>0.0</td>\n",
       "      <td>0.0</td>\n",
       "      <td>0.0</td>\n",
       "      <td>0.0</td>\n",
       "      <td>0.0</td>\n",
       "      <td>0.0</td>\n",
       "      <td>...</td>\n",
       "      <td>1.0</td>\n",
       "      <td>0.0</td>\n",
       "      <td>0.0</td>\n",
       "      <td>0.0</td>\n",
       "      <td>0.0</td>\n",
       "      <td>0.0</td>\n",
       "      <td>0.0</td>\n",
       "      <td>0.0</td>\n",
       "      <td>-0.793117</td>\n",
       "      <td>0.461611</td>\n",
       "    </tr>\n",
       "    <tr>\n",
       "      <th>4331</th>\n",
       "      <td>0.0</td>\n",
       "      <td>0.0</td>\n",
       "      <td>0.0</td>\n",
       "      <td>0.0</td>\n",
       "      <td>0.0</td>\n",
       "      <td>0.0</td>\n",
       "      <td>0.0</td>\n",
       "      <td>0.0</td>\n",
       "      <td>0.0</td>\n",
       "      <td>0.0</td>\n",
       "      <td>...</td>\n",
       "      <td>1.0</td>\n",
       "      <td>0.0</td>\n",
       "      <td>0.0</td>\n",
       "      <td>0.0</td>\n",
       "      <td>0.0</td>\n",
       "      <td>0.0</td>\n",
       "      <td>0.0</td>\n",
       "      <td>0.0</td>\n",
       "      <td>-1.021062</td>\n",
       "      <td>0.903951</td>\n",
       "    </tr>\n",
       "    <tr>\n",
       "      <th>4330</th>\n",
       "      <td>0.0</td>\n",
       "      <td>0.0</td>\n",
       "      <td>0.0</td>\n",
       "      <td>0.0</td>\n",
       "      <td>0.0</td>\n",
       "      <td>0.0</td>\n",
       "      <td>0.0</td>\n",
       "      <td>0.0</td>\n",
       "      <td>0.0</td>\n",
       "      <td>0.0</td>\n",
       "      <td>...</td>\n",
       "      <td>0.0</td>\n",
       "      <td>1.0</td>\n",
       "      <td>0.0</td>\n",
       "      <td>0.0</td>\n",
       "      <td>0.0</td>\n",
       "      <td>0.0</td>\n",
       "      <td>0.0</td>\n",
       "      <td>0.0</td>\n",
       "      <td>-1.098472</td>\n",
       "      <td>1.133842</td>\n",
       "    </tr>\n",
       "    <tr>\n",
       "      <th>4329</th>\n",
       "      <td>0.0</td>\n",
       "      <td>0.0</td>\n",
       "      <td>0.0</td>\n",
       "      <td>0.0</td>\n",
       "      <td>0.0</td>\n",
       "      <td>0.0</td>\n",
       "      <td>0.0</td>\n",
       "      <td>0.0</td>\n",
       "      <td>0.0</td>\n",
       "      <td>0.0</td>\n",
       "      <td>...</td>\n",
       "      <td>0.0</td>\n",
       "      <td>1.0</td>\n",
       "      <td>0.0</td>\n",
       "      <td>0.0</td>\n",
       "      <td>0.0</td>\n",
       "      <td>0.0</td>\n",
       "      <td>0.0</td>\n",
       "      <td>0.0</td>\n",
       "      <td>1.524431</td>\n",
       "      <td>-0.957896</td>\n",
       "    </tr>\n",
       "  </tbody>\n",
       "</table>\n",
       "<p>5 rows × 26 columns</p>\n",
       "</div>"
      ],
      "text/plain": [
       "        0    1    2    3    4    5    6    7    8    9       ...         16  \\\n",
       "4333  0.0  0.0  0.0  0.0  0.0  0.0  0.0  0.0  0.0  0.0       ...        1.0   \n",
       "4332  0.0  0.0  0.0  0.0  0.0  0.0  0.0  0.0  0.0  0.0       ...        1.0   \n",
       "4331  0.0  0.0  0.0  0.0  0.0  0.0  0.0  0.0  0.0  0.0       ...        1.0   \n",
       "4330  0.0  0.0  0.0  0.0  0.0  0.0  0.0  0.0  0.0  0.0       ...        0.0   \n",
       "4329  0.0  0.0  0.0  0.0  0.0  0.0  0.0  0.0  0.0  0.0       ...        0.0   \n",
       "\n",
       "       17   18   19   20   21   22   23  norm_latitude  norm_longitude  \n",
       "4333  0.0  0.0  0.0  0.0  0.0  0.0  0.0      -0.127076        0.454946  \n",
       "4332  0.0  0.0  0.0  0.0  0.0  0.0  0.0      -0.793117        0.461611  \n",
       "4331  0.0  0.0  0.0  0.0  0.0  0.0  0.0      -1.021062        0.903951  \n",
       "4330  1.0  0.0  0.0  0.0  0.0  0.0  0.0      -1.098472        1.133842  \n",
       "4329  1.0  0.0  0.0  0.0  0.0  0.0  0.0       1.524431       -0.957896  \n",
       "\n",
       "[5 rows x 26 columns]"
      ]
     },
     "execution_count": 21,
     "metadata": {},
     "output_type": "execute_result"
    }
   ],
   "source": [
    "# Create dataframe for clustering by hour of the day and location\n",
    "columns = list(range(0,24)) +['latitude', 'longitude']\n",
    "df_st = df_master[columns]\n",
    "df_st= df_st.dropna()\n",
    "\n",
    "# Standardizing longitude and latitude data\n",
    "scale = preprocessing.StandardScaler().fit(df_st[['longitude','latitude']])\n",
    "df_std = scale.transform(df_st[['longitude','latitude']])\n",
    "longitude, latitude = zip(*df_std)\n",
    "df_st['norm_latitude'] = list(latitude)\n",
    "df_st['norm_longitude'] = list(longitude)\n",
    "\n",
    "# Storing actual longitude and latitude data for plotting\n",
    "real_longitude = df_st['longitude']\n",
    "real_latitude = df_st['latitude']\n",
    "df_st = df_st.drop(['latitude','longitude'],axis=1)\n",
    "df_st.head()"
   ]
  },
  {
   "cell_type": "code",
   "execution_count": 22,
   "metadata": {
    "collapsed": false
   },
   "outputs": [
    {
     "data": {
      "image/png": "[encoded data removed]",
      "text/plain": [
       "<matplotlib.figure.Figure at 0x7f9995102940>"
      ]
     },
     "metadata": {},
     "output_type": "display_data"
    }
   ],
   "source": [
    "evaluate_clusters(df_st, 30)"
   ]
  },
  {
   "cell_type": "code",
   "execution_count": 23,
   "metadata": {
    "collapsed": false
   },
   "outputs": [
    {
     "data": {
      "image/png": "[encoded data removed]",
      "text/plain": [
       "<matplotlib.figure.Figure at 0x7f9995102b38>"
      ]
     },
     "metadata": {},
     "output_type": "display_data"
    }
   ],
   "source": [
    "ri_evaluate_clusters(df_st, 30, df_truth['type_code'])"
   ]
  },
  {
   "cell_type": "code",
   "execution_count": 24,
   "metadata": {
    "collapsed": false
   },
   "outputs": [
    {
     "data": {
      "text/html": [
       "<div>\n",
       "<table border=\"1\" class=\"dataframe\">\n",
       "  <thead>\n",
       "    <tr style=\"text-align: right;\">\n",
       "      <th></th>\n",
       "      <th>0</th>\n",
       "      <th>1</th>\n",
       "      <th>2</th>\n",
       "      <th>3</th>\n",
       "      <th>4</th>\n",
       "      <th>5</th>\n",
       "      <th>6</th>\n",
       "      <th>7</th>\n",
       "      <th>8</th>\n",
       "      <th>9</th>\n",
       "      <th>...</th>\n",
       "      <th>17</th>\n",
       "      <th>18</th>\n",
       "      <th>19</th>\n",
       "      <th>20</th>\n",
       "      <th>21</th>\n",
       "      <th>22</th>\n",
       "      <th>23</th>\n",
       "      <th>norm_latitude</th>\n",
       "      <th>norm_longitude</th>\n",
       "      <th>label</th>\n",
       "    </tr>\n",
       "  </thead>\n",
       "  <tbody>\n",
       "    <tr>\n",
       "      <th>4333</th>\n",
       "      <td>0.0</td>\n",
       "      <td>0.0</td>\n",
       "      <td>0.0</td>\n",
       "      <td>0.0</td>\n",
       "      <td>0.0</td>\n",
       "      <td>0.0</td>\n",
       "      <td>0.0</td>\n",
       "      <td>0.0</td>\n",
       "      <td>0.0</td>\n",
       "      <td>0.0</td>\n",
       "      <td>...</td>\n",
       "      <td>0.0</td>\n",
       "      <td>0.0</td>\n",
       "      <td>0.0</td>\n",
       "      <td>0.0</td>\n",
       "      <td>0.0</td>\n",
       "      <td>0.0</td>\n",
       "      <td>0.0</td>\n",
       "      <td>-0.127076</td>\n",
       "      <td>0.454946</td>\n",
       "      <td>0</td>\n",
       "    </tr>\n",
       "    <tr>\n",
       "      <th>4332</th>\n",
       "      <td>0.0</td>\n",
       "      <td>0.0</td>\n",
       "      <td>0.0</td>\n",
       "      <td>0.0</td>\n",
       "      <td>0.0</td>\n",
       "      <td>0.0</td>\n",
       "      <td>0.0</td>\n",
       "      <td>0.0</td>\n",
       "      <td>0.0</td>\n",
       "      <td>0.0</td>\n",
       "      <td>...</td>\n",
       "      <td>0.0</td>\n",
       "      <td>0.0</td>\n",
       "      <td>0.0</td>\n",
       "      <td>0.0</td>\n",
       "      <td>0.0</td>\n",
       "      <td>0.0</td>\n",
       "      <td>0.0</td>\n",
       "      <td>-0.793117</td>\n",
       "      <td>0.461611</td>\n",
       "      <td>2</td>\n",
       "    </tr>\n",
       "    <tr>\n",
       "      <th>4331</th>\n",
       "      <td>0.0</td>\n",
       "      <td>0.0</td>\n",
       "      <td>0.0</td>\n",
       "      <td>0.0</td>\n",
       "      <td>0.0</td>\n",
       "      <td>0.0</td>\n",
       "      <td>0.0</td>\n",
       "      <td>0.0</td>\n",
       "      <td>0.0</td>\n",
       "      <td>0.0</td>\n",
       "      <td>...</td>\n",
       "      <td>0.0</td>\n",
       "      <td>0.0</td>\n",
       "      <td>0.0</td>\n",
       "      <td>0.0</td>\n",
       "      <td>0.0</td>\n",
       "      <td>0.0</td>\n",
       "      <td>0.0</td>\n",
       "      <td>-1.021062</td>\n",
       "      <td>0.903951</td>\n",
       "      <td>2</td>\n",
       "    </tr>\n",
       "    <tr>\n",
       "      <th>4330</th>\n",
       "      <td>0.0</td>\n",
       "      <td>0.0</td>\n",
       "      <td>0.0</td>\n",
       "      <td>0.0</td>\n",
       "      <td>0.0</td>\n",
       "      <td>0.0</td>\n",
       "      <td>0.0</td>\n",
       "      <td>0.0</td>\n",
       "      <td>0.0</td>\n",
       "      <td>0.0</td>\n",
       "      <td>...</td>\n",
       "      <td>1.0</td>\n",
       "      <td>0.0</td>\n",
       "      <td>0.0</td>\n",
       "      <td>0.0</td>\n",
       "      <td>0.0</td>\n",
       "      <td>0.0</td>\n",
       "      <td>0.0</td>\n",
       "      <td>-1.098472</td>\n",
       "      <td>1.133842</td>\n",
       "      <td>2</td>\n",
       "    </tr>\n",
       "    <tr>\n",
       "      <th>4329</th>\n",
       "      <td>0.0</td>\n",
       "      <td>0.0</td>\n",
       "      <td>0.0</td>\n",
       "      <td>0.0</td>\n",
       "      <td>0.0</td>\n",
       "      <td>0.0</td>\n",
       "      <td>0.0</td>\n",
       "      <td>0.0</td>\n",
       "      <td>0.0</td>\n",
       "      <td>0.0</td>\n",
       "      <td>...</td>\n",
       "      <td>1.0</td>\n",
       "      <td>0.0</td>\n",
       "      <td>0.0</td>\n",
       "      <td>0.0</td>\n",
       "      <td>0.0</td>\n",
       "      <td>0.0</td>\n",
       "      <td>0.0</td>\n",
       "      <td>1.524431</td>\n",
       "      <td>-0.957896</td>\n",
       "      <td>1</td>\n",
       "    </tr>\n",
       "  </tbody>\n",
       "</table>\n",
       "<p>5 rows × 27 columns</p>\n",
       "</div>"
      ],
      "text/plain": [
       "        0    1    2    3    4    5    6    7    8    9  ...     17   18   19  \\\n",
       "4333  0.0  0.0  0.0  0.0  0.0  0.0  0.0  0.0  0.0  0.0  ...    0.0  0.0  0.0   \n",
       "4332  0.0  0.0  0.0  0.0  0.0  0.0  0.0  0.0  0.0  0.0  ...    0.0  0.0  0.0   \n",
       "4331  0.0  0.0  0.0  0.0  0.0  0.0  0.0  0.0  0.0  0.0  ...    0.0  0.0  0.0   \n",
       "4330  0.0  0.0  0.0  0.0  0.0  0.0  0.0  0.0  0.0  0.0  ...    1.0  0.0  0.0   \n",
       "4329  0.0  0.0  0.0  0.0  0.0  0.0  0.0  0.0  0.0  0.0  ...    1.0  0.0  0.0   \n",
       "\n",
       "       20   21   22   23  norm_latitude  norm_longitude  label  \n",
       "4333  0.0  0.0  0.0  0.0      -0.127076        0.454946      0  \n",
       "4332  0.0  0.0  0.0  0.0      -0.793117        0.461611      2  \n",
       "4331  0.0  0.0  0.0  0.0      -1.021062        0.903951      2  \n",
       "4330  0.0  0.0  0.0  0.0      -1.098472        1.133842      2  \n",
       "4329  0.0  0.0  0.0  0.0       1.524431       -0.957896      1  \n",
       "\n",
       "[5 rows x 27 columns]"
      ]
     },
     "execution_count": 24,
     "metadata": {},
     "output_type": "execute_result"
    }
   ],
   "source": [
    "# K-means clustering \n",
    "k = 7\n",
    "kmeans = KMeans(n_clusters=k)\n",
    "kmeans.fit_predict(df_st)\n",
    "centroids = kmeans.cluster_centers_\n",
    "labels = kmeans.labels_\n",
    "error = kmeans.inertia_\n",
    "df_st['label'] = labels\n",
    "df_st.head()"
   ]
  },
  {
   "cell_type": "code",
   "execution_count": 25,
   "metadata": {
    "collapsed": false
   },
   "outputs": [
    {
     "data": {
      "image/png": "[encoded data removed]",
      "text/plain": [
       "<matplotlib.figure.Figure at 0x7f9982f1cda0>"
      ]
     },
     "metadata": {},
     "output_type": "display_data"
    }
   ],
   "source": [
    "graph(real_longitude, real_latitude, df_st['label'],'clustering_hourofday ')"
   ]
  },
  {
   "cell_type": "code",
   "execution_count": 26,
   "metadata": {
    "collapsed": false,
    "scrolled": true
   },
   "outputs": [
    {
     "data": {
      "text/plain": [
       "defaultdict(list,\n",
       "            {0.0: Counter({'HAZARDOUS DRIVER': 137,\n",
       "                      'MOTOR VEHICLE COLLISION': 735,\n",
       "                      'MOTOR VEHICLE COLLISION - TOWED': 13,\n",
       "                      'STALLED/HAZARDOUS VEHICLE': 126,\n",
       "                      'TRAFFIC INCIDENT - NO COLLISION': 20,\n",
       "                      'TRAFFIC NUISANCE OR PARKING VIOLATION': 294,\n",
       "                      'TRAFFIC SIGNAL PROBLEM': 46}),\n",
       "             1.0: Counter({'HAZARDOUS DRIVER': 54,\n",
       "                      'MOTOR VEHICLE COLLISION': 214,\n",
       "                      'MOTOR VEHICLE COLLISION - TOWED': 6,\n",
       "                      'STALLED/HAZARDOUS VEHICLE': 21,\n",
       "                      'TRAFFIC INCIDENT - NO COLLISION': 6,\n",
       "                      'TRAFFIC NUISANCE OR PARKING VIOLATION': 92,\n",
       "                      'TRAFFIC SIGNAL PROBLEM': 4}),\n",
       "             2.0: Counter({'HAZARDOUS DRIVER': 112,\n",
       "                      'MOTOR VEHICLE COLLISION': 920,\n",
       "                      'MOTOR VEHICLE COLLISION - TOWED': 23,\n",
       "                      'STALLED/HAZARDOUS VEHICLE': 105,\n",
       "                      'TRAFFIC INCIDENT - NO COLLISION': 18,\n",
       "                      'TRAFFIC NUISANCE OR PARKING VIOLATION': 198,\n",
       "                      'TRAFFIC SIGNAL PROBLEM': 35}),\n",
       "             3.0: Counter({'HAZARDOUS DRIVER': 142,\n",
       "                      'MOTOR VEHICLE COLLISION': 597,\n",
       "                      'MOTOR VEHICLE COLLISION - TOWED': 17,\n",
       "                      'STALLED/HAZARDOUS VEHICLE': 157,\n",
       "                      'TRAFFIC INCIDENT - NO COLLISION': 13,\n",
       "                      'TRAFFIC NUISANCE OR PARKING VIOLATION': 207,\n",
       "                      'TRAFFIC SIGNAL PROBLEM': 24}),\n",
       "             4.0: Counter({'HAZARDOUS DRIVER': 88,\n",
       "                      'MOTOR VEHICLE COLLISION': 288,\n",
       "                      'MOTOR VEHICLE COLLISION - TOWED': 11,\n",
       "                      'STALLED/HAZARDOUS VEHICLE': 65,\n",
       "                      'TRAFFIC INCIDENT - NO COLLISION': 6,\n",
       "                      'TRAFFIC NUISANCE OR PARKING VIOLATION': 126,\n",
       "                      'TRAFFIC SIGNAL PROBLEM': 11}),\n",
       "             5.0: Counter({'HAZARDOUS DRIVER': 34,\n",
       "                      'MOTOR VEHICLE COLLISION': 78,\n",
       "                      'STALLED/HAZARDOUS VEHICLE': 7,\n",
       "                      'TRAFFIC INCIDENT - NO COLLISION': 2,\n",
       "                      'TRAFFIC NUISANCE OR PARKING VIOLATION': 34,\n",
       "                      'TRAFFIC SIGNAL PROBLEM': 2}),\n",
       "             6.0: Counter({'HAZARDOUS DRIVER': 87,\n",
       "                      'MOTOR VEHICLE COLLISION': 316,\n",
       "                      'MOTOR VEHICLE COLLISION - TOWED': 9,\n",
       "                      'STALLED/HAZARDOUS VEHICLE': 55,\n",
       "                      'TRAFFIC INCIDENT - NO COLLISION': 5,\n",
       "                      'TRAFFIC NUISANCE OR PARKING VIOLATION': 83,\n",
       "                      'TRAFFIC SIGNAL PROBLEM': 17})})"
      ]
     },
     "execution_count": 26,
     "metadata": {},
     "output_type": "execute_result"
    }
   ],
   "source": [
    "# Getting a sense of type of traffic incident associated with each cluster\n",
    "temp = df_master.reset_index().drop_duplicates(subset='index',keep='last').set_index('index')\n",
    "d = defaultdict(list)\n",
    "for idx, row in df_st.iterrows():\n",
    "    label = row['label']\n",
    "    d[label].append(temp.loc[idx]['type'])\n",
    "for label in d:\n",
    "    freq = Counter(d[label])\n",
    "    d[label] = freq \n",
    "d"
   ]
  },
  {
   "cell_type": "code",
   "execution_count": 27,
   "metadata": {
    "collapsed": false,
    "scrolled": true
   },
   "outputs": [
    {
     "data": {
      "text/plain": [
       "defaultdict(list,\n",
       "            {0.0: Counter({0: 22,\n",
       "                      1: 19,\n",
       "                      2: 16,\n",
       "                      3: 14,\n",
       "                      4: 9,\n",
       "                      5: 27,\n",
       "                      6: 37,\n",
       "                      7: 48,\n",
       "                      8: 88,\n",
       "                      9: 61,\n",
       "                      10: 88,\n",
       "                      11: 78,\n",
       "                      12: 88,\n",
       "                      13: 91,\n",
       "                      14: 107,\n",
       "                      15: 110,\n",
       "                      16: 88,\n",
       "                      17: 90,\n",
       "                      18: 93,\n",
       "                      19: 47,\n",
       "                      20: 39,\n",
       "                      21: 52,\n",
       "                      22: 34,\n",
       "                      23: 25}),\n",
       "             1.0: Counter({0: 5,\n",
       "                      1: 4,\n",
       "                      2: 6,\n",
       "                      3: 5,\n",
       "                      4: 4,\n",
       "                      5: 9,\n",
       "                      6: 22,\n",
       "                      7: 20,\n",
       "                      8: 12,\n",
       "                      9: 18,\n",
       "                      10: 18,\n",
       "                      11: 19,\n",
       "                      12: 32,\n",
       "                      13: 25,\n",
       "                      14: 22,\n",
       "                      15: 27,\n",
       "                      16: 27,\n",
       "                      17: 23,\n",
       "                      18: 19,\n",
       "                      19: 17,\n",
       "                      20: 21,\n",
       "                      21: 18,\n",
       "                      22: 16,\n",
       "                      23: 8}),\n",
       "             2.0: Counter({0: 21,\n",
       "                      1: 7,\n",
       "                      2: 7,\n",
       "                      3: 4,\n",
       "                      4: 12,\n",
       "                      5: 18,\n",
       "                      6: 37,\n",
       "                      7: 67,\n",
       "                      8: 78,\n",
       "                      9: 93,\n",
       "                      10: 75,\n",
       "                      11: 102,\n",
       "                      12: 78,\n",
       "                      13: 94,\n",
       "                      14: 91,\n",
       "                      15: 121,\n",
       "                      16: 115,\n",
       "                      17: 103,\n",
       "                      18: 84,\n",
       "                      19: 68,\n",
       "                      20: 37,\n",
       "                      21: 41,\n",
       "                      22: 40,\n",
       "                      23: 18}),\n",
       "             3.0: Counter({0: 22,\n",
       "                      1: 12,\n",
       "                      2: 12,\n",
       "                      3: 7,\n",
       "                      4: 12,\n",
       "                      5: 27,\n",
       "                      6: 64,\n",
       "                      7: 64,\n",
       "                      8: 54,\n",
       "                      9: 58,\n",
       "                      10: 62,\n",
       "                      11: 51,\n",
       "                      12: 65,\n",
       "                      13: 68,\n",
       "                      14: 70,\n",
       "                      15: 90,\n",
       "                      16: 94,\n",
       "                      17: 90,\n",
       "                      18: 58,\n",
       "                      19: 44,\n",
       "                      20: 48,\n",
       "                      21: 39,\n",
       "                      22: 30,\n",
       "                      23: 16}),\n",
       "             4.0: Counter({0: 13,\n",
       "                      1: 9,\n",
       "                      2: 8,\n",
       "                      3: 3,\n",
       "                      4: 6,\n",
       "                      5: 8,\n",
       "                      6: 20,\n",
       "                      7: 31,\n",
       "                      8: 29,\n",
       "                      9: 20,\n",
       "                      10: 33,\n",
       "                      11: 33,\n",
       "                      12: 36,\n",
       "                      13: 31,\n",
       "                      14: 40,\n",
       "                      15: 43,\n",
       "                      16: 46,\n",
       "                      17: 52,\n",
       "                      18: 37,\n",
       "                      19: 22,\n",
       "                      20: 30,\n",
       "                      21: 19,\n",
       "                      22: 16,\n",
       "                      23: 10}),\n",
       "             5.0: Counter({0: 2,\n",
       "                      2: 3,\n",
       "                      3: 1,\n",
       "                      4: 2,\n",
       "                      5: 2,\n",
       "                      6: 7,\n",
       "                      7: 10,\n",
       "                      8: 5,\n",
       "                      9: 7,\n",
       "                      10: 1,\n",
       "                      11: 4,\n",
       "                      12: 11,\n",
       "                      13: 12,\n",
       "                      14: 15,\n",
       "                      15: 12,\n",
       "                      16: 11,\n",
       "                      17: 10,\n",
       "                      18: 12,\n",
       "                      19: 7,\n",
       "                      20: 7,\n",
       "                      21: 10,\n",
       "                      22: 3,\n",
       "                      23: 3}),\n",
       "             6.0: Counter({0: 5,\n",
       "                      1: 4,\n",
       "                      2: 4,\n",
       "                      4: 7,\n",
       "                      5: 17,\n",
       "                      6: 13,\n",
       "                      7: 37,\n",
       "                      8: 29,\n",
       "                      9: 20,\n",
       "                      10: 20,\n",
       "                      11: 32,\n",
       "                      12: 32,\n",
       "                      13: 38,\n",
       "                      14: 41,\n",
       "                      15: 40,\n",
       "                      16: 33,\n",
       "                      17: 40,\n",
       "                      18: 39,\n",
       "                      19: 34,\n",
       "                      20: 16,\n",
       "                      21: 31,\n",
       "                      22: 22,\n",
       "                      23: 18})})"
      ]
     },
     "execution_count": 27,
     "metadata": {},
     "output_type": "execute_result"
    }
   ],
   "source": [
    "# Getting sense of hour of day of each cluster \n",
    "time = defaultdict(list)\n",
    "for idx, row in df_st.iterrows():\n",
    "    label = row['label']\n",
    "    for col, val in row.iteritems():\n",
    "        if val == 1 and str(col).isdigit():\n",
    "            time[label].append(col)\n",
    "            break;\n",
    "for label in time:\n",
    "    freq = Counter(time[label])\n",
    "    time[label] = freq \n",
    "time"
   ]
  },
  {
   "cell_type": "markdown",
   "metadata": {},
   "source": [
    "# GMM Clustering By Day of the Week"
   ]
  },
  {
   "cell_type": "code",
   "execution_count": 28,
   "metadata": {
    "collapsed": false
   },
   "outputs": [],
   "source": [
    "gmm = GaussianMixture(n_components=5, covariance_type='diag')"
   ]
  },
  {
   "cell_type": "code",
   "execution_count": 29,
   "metadata": {
    "collapsed": false
   },
   "outputs": [
    {
     "ename": "KeyError",
     "evalue": "\"[0 1 2 3 4 5 6 7 8 9 10 11 12 13 14 15 16 17 18 19 20 21 22 23 'latitude'\\n 'longitude'] not in index\"",
     "output_type": "error",
     "traceback": [
      "\u001b[0;31m---------------------------------------------------------------------------\u001b[0m",
      "\u001b[0;31mKeyError\u001b[0m                                  Traceback (most recent call last)",
      "\u001b[0;32m<ipython-input-29-40c83610d02a>\u001b[0m in \u001b[0;36m<module>\u001b[0;34m()\u001b[0m\n\u001b[0;32m----> 1\u001b[0;31m \u001b[0mtemp\u001b[0m \u001b[0;34m=\u001b[0m \u001b[0mdf_day\u001b[0m\u001b[0;34m[\u001b[0m\u001b[0mcolumns\u001b[0m\u001b[0;34m]\u001b[0m\u001b[0;34m\u001b[0m\u001b[0m\n\u001b[0m\u001b[1;32m      2\u001b[0m \u001b[0mgmm\u001b[0m\u001b[0;34m.\u001b[0m\u001b[0mfit\u001b[0m\u001b[0;34m(\u001b[0m\u001b[0mtemp\u001b[0m\u001b[0;34m)\u001b[0m\u001b[0;34m\u001b[0m\u001b[0m\n\u001b[1;32m      3\u001b[0m \u001b[0my_pred\u001b[0m \u001b[0;34m=\u001b[0m \u001b[0mgmm\u001b[0m\u001b[0;34m.\u001b[0m\u001b[0mpredict\u001b[0m\u001b[0;34m(\u001b[0m\u001b[0mtemp\u001b[0m\u001b[0;34m)\u001b[0m\u001b[0;34m\u001b[0m\u001b[0m\n\u001b[1;32m      4\u001b[0m \u001b[0mdf_day\u001b[0m\u001b[0;34m[\u001b[0m\u001b[0;34m'label'\u001b[0m\u001b[0;34m]\u001b[0m \u001b[0;34m=\u001b[0m \u001b[0my_pred\u001b[0m\u001b[0;34m\u001b[0m\u001b[0m\n\u001b[1;32m      5\u001b[0m \u001b[0mdf_day\u001b[0m\u001b[0;34m.\u001b[0m\u001b[0mhead\u001b[0m\u001b[0;34m(\u001b[0m\u001b[0;34m)\u001b[0m\u001b[0;34m\u001b[0m\u001b[0m\n",
      "\u001b[0;32m/home/jlam17/anaconda3/lib/python3.5/site-packages/pandas/core/frame.py\u001b[0m in \u001b[0;36m__getitem__\u001b[0;34m(self, key)\u001b[0m\n\u001b[1;32m   1989\u001b[0m         \u001b[0;32mif\u001b[0m \u001b[0misinstance\u001b[0m\u001b[0;34m(\u001b[0m\u001b[0mkey\u001b[0m\u001b[0;34m,\u001b[0m \u001b[0;34m(\u001b[0m\u001b[0mSeries\u001b[0m\u001b[0;34m,\u001b[0m \u001b[0mnp\u001b[0m\u001b[0;34m.\u001b[0m\u001b[0mndarray\u001b[0m\u001b[0;34m,\u001b[0m \u001b[0mIndex\u001b[0m\u001b[0;34m,\u001b[0m \u001b[0mlist\u001b[0m\u001b[0;34m)\u001b[0m\u001b[0;34m)\u001b[0m\u001b[0;34m:\u001b[0m\u001b[0;34m\u001b[0m\u001b[0m\n\u001b[1;32m   1990\u001b[0m             \u001b[0;31m# either boolean or fancy integer index\u001b[0m\u001b[0;34m\u001b[0m\u001b[0;34m\u001b[0m\u001b[0m\n\u001b[0;32m-> 1991\u001b[0;31m             \u001b[0;32mreturn\u001b[0m \u001b[0mself\u001b[0m\u001b[0;34m.\u001b[0m\u001b[0m_getitem_array\u001b[0m\u001b[0;34m(\u001b[0m\u001b[0mkey\u001b[0m\u001b[0;34m)\u001b[0m\u001b[0;34m\u001b[0m\u001b[0m\n\u001b[0m\u001b[1;32m   1992\u001b[0m         \u001b[0;32melif\u001b[0m \u001b[0misinstance\u001b[0m\u001b[0;34m(\u001b[0m\u001b[0mkey\u001b[0m\u001b[0;34m,\u001b[0m \u001b[0mDataFrame\u001b[0m\u001b[0;34m)\u001b[0m\u001b[0;34m:\u001b[0m\u001b[0;34m\u001b[0m\u001b[0m\n\u001b[1;32m   1993\u001b[0m             \u001b[0;32mreturn\u001b[0m \u001b[0mself\u001b[0m\u001b[0;34m.\u001b[0m\u001b[0m_getitem_frame\u001b[0m\u001b[0;34m(\u001b[0m\u001b[0mkey\u001b[0m\u001b[0;34m)\u001b[0m\u001b[0;34m\u001b[0m\u001b[0m\n",
      "\u001b[0;32m/home/jlam17/anaconda3/lib/python3.5/site-packages/pandas/core/frame.py\u001b[0m in \u001b[0;36m_getitem_array\u001b[0;34m(self, key)\u001b[0m\n\u001b[1;32m   2033\u001b[0m             \u001b[0;32mreturn\u001b[0m \u001b[0mself\u001b[0m\u001b[0;34m.\u001b[0m\u001b[0mtake\u001b[0m\u001b[0;34m(\u001b[0m\u001b[0mindexer\u001b[0m\u001b[0;34m,\u001b[0m \u001b[0maxis\u001b[0m\u001b[0;34m=\u001b[0m\u001b[0;36m0\u001b[0m\u001b[0;34m,\u001b[0m \u001b[0mconvert\u001b[0m\u001b[0;34m=\u001b[0m\u001b[0;32mFalse\u001b[0m\u001b[0;34m)\u001b[0m\u001b[0;34m\u001b[0m\u001b[0m\n\u001b[1;32m   2034\u001b[0m         \u001b[0;32melse\u001b[0m\u001b[0;34m:\u001b[0m\u001b[0;34m\u001b[0m\u001b[0m\n\u001b[0;32m-> 2035\u001b[0;31m             \u001b[0mindexer\u001b[0m \u001b[0;34m=\u001b[0m \u001b[0mself\u001b[0m\u001b[0;34m.\u001b[0m\u001b[0mix\u001b[0m\u001b[0;34m.\u001b[0m\u001b[0m_convert_to_indexer\u001b[0m\u001b[0;34m(\u001b[0m\u001b[0mkey\u001b[0m\u001b[0;34m,\u001b[0m \u001b[0maxis\u001b[0m\u001b[0;34m=\u001b[0m\u001b[0;36m1\u001b[0m\u001b[0;34m)\u001b[0m\u001b[0;34m\u001b[0m\u001b[0m\n\u001b[0m\u001b[1;32m   2036\u001b[0m             \u001b[0;32mreturn\u001b[0m \u001b[0mself\u001b[0m\u001b[0;34m.\u001b[0m\u001b[0mtake\u001b[0m\u001b[0;34m(\u001b[0m\u001b[0mindexer\u001b[0m\u001b[0;34m,\u001b[0m \u001b[0maxis\u001b[0m\u001b[0;34m=\u001b[0m\u001b[0;36m1\u001b[0m\u001b[0;34m,\u001b[0m \u001b[0mconvert\u001b[0m\u001b[0;34m=\u001b[0m\u001b[0;32mTrue\u001b[0m\u001b[0;34m)\u001b[0m\u001b[0;34m\u001b[0m\u001b[0m\n\u001b[1;32m   2037\u001b[0m \u001b[0;34m\u001b[0m\u001b[0m\n",
      "\u001b[0;32m/home/jlam17/anaconda3/lib/python3.5/site-packages/pandas/core/indexing.py\u001b[0m in \u001b[0;36m_convert_to_indexer\u001b[0;34m(self, obj, axis, is_setter)\u001b[0m\n\u001b[1;32m   1212\u001b[0m                 \u001b[0mmask\u001b[0m \u001b[0;34m=\u001b[0m \u001b[0mcheck\u001b[0m \u001b[0;34m==\u001b[0m \u001b[0;34m-\u001b[0m\u001b[0;36m1\u001b[0m\u001b[0;34m\u001b[0m\u001b[0m\n\u001b[1;32m   1213\u001b[0m                 \u001b[0;32mif\u001b[0m \u001b[0mmask\u001b[0m\u001b[0;34m.\u001b[0m\u001b[0many\u001b[0m\u001b[0;34m(\u001b[0m\u001b[0;34m)\u001b[0m\u001b[0;34m:\u001b[0m\u001b[0;34m\u001b[0m\u001b[0m\n\u001b[0;32m-> 1214\u001b[0;31m                     \u001b[0;32mraise\u001b[0m \u001b[0mKeyError\u001b[0m\u001b[0;34m(\u001b[0m\u001b[0;34m'%s not in index'\u001b[0m \u001b[0;34m%\u001b[0m \u001b[0mobjarr\u001b[0m\u001b[0;34m[\u001b[0m\u001b[0mmask\u001b[0m\u001b[0;34m]\u001b[0m\u001b[0;34m)\u001b[0m\u001b[0;34m\u001b[0m\u001b[0m\n\u001b[0m\u001b[1;32m   1215\u001b[0m \u001b[0;34m\u001b[0m\u001b[0m\n\u001b[1;32m   1216\u001b[0m                 \u001b[0;32mreturn\u001b[0m \u001b[0m_values_from_object\u001b[0m\u001b[0;34m(\u001b[0m\u001b[0mindexer\u001b[0m\u001b[0;34m)\u001b[0m\u001b[0;34m\u001b[0m\u001b[0m\n",
      "\u001b[0;31mKeyError\u001b[0m: \"[0 1 2 3 4 5 6 7 8 9 10 11 12 13 14 15 16 17 18 19 20 21 22 23 'latitude'\\n 'longitude'] not in index\""
     ]
    }
   ],
   "source": [
    "temp = df_day[columns]\n",
    "gmm.fit(temp)\n",
    "y_pred = gmm.predict(temp)\n",
    "df_day['label'] = y_pred\n",
    "df_day.head()"
   ]
  },
  {
   "cell_type": "code",
   "execution_count": null,
   "metadata": {
    "collapsed": false
   },
   "outputs": [],
   "source": [
    "graph(real_longitude, real_latitude, df_day['label'])"
   ]
  },
  {
   "cell_type": "code",
   "execution_count": null,
   "metadata": {
    "collapsed": false
   },
   "outputs": [],
   "source": [
    "# Getting idea of clusters \n",
    "d = defaultdict(list)\n",
    "columns = ['Monday','Tuesday','Wednesday','Thursday','Friday','Saturday','Sunday']\n",
    "for idx, row in df_day.iterrows():\n",
    "    label = row['label']\n",
    "    for col, val in row.iteritems():\n",
    "        if val == 1 and col in columns:\n",
    "            d[label].append(col)\n",
    "            break;\n",
    "for label in d:\n",
    "    freq = Counter(d[label])\n",
    "    d[label] = freq \n",
    "d"
   ]
  },
  {
   "cell_type": "markdown",
   "metadata": {},
   "source": [
    "# GMM Clustering By Hour of the Day"
   ]
  },
  {
   "cell_type": "code",
   "execution_count": null,
   "metadata": {
    "collapsed": false
   },
   "outputs": [],
   "source": [
    "columns = list(range(0,24))\n",
    "temp = df_st[columns]\n",
    "gmm.fit(temp)\n",
    "y_pred = gmm.predict(temp)\n",
    "df_st['label'] = y_pred\n",
    "df_st.head()"
   ]
  },
  {
   "cell_type": "code",
   "execution_count": null,
   "metadata": {
    "collapsed": false
   },
   "outputs": [],
   "source": [
    "graph(real_longitude, real_latitude, df_st['label'])"
   ]
  },
  {
   "cell_type": "code",
   "execution_count": null,
   "metadata": {
    "collapsed": false,
    "scrolled": true
   },
   "outputs": [],
   "source": [
    "d = defaultdict(list)\n",
    "for idx, row in df_st.iterrows():\n",
    "    label = row['label']\n",
    "    for col, val in row.iteritems():\n",
    "        if val == 1:\n",
    "            d[label].append(col)\n",
    "            break;\n",
    "for label in d:\n",
    "    freq = Counter(d[label])\n",
    "    d[label] = freq \n",
    "d"
   ]
  },
  {
   "cell_type": "markdown",
   "metadata": {},
   "source": [
    "# Decision Tree Modeling"
   ]
  },
  {
   "cell_type": "code",
   "execution_count": null,
   "metadata": {
    "collapsed": false
   },
   "outputs": [],
   "source": [
    "# Data frame used training decision tree \n",
    "df_X = df_master[['hour', 'longitude', 'latitude', 'AIEA', 'AINA HAINA', 'AIRPORT', 'ALA MOANA', 'ALIAMANU',\n",
    "       'DOWNTOWN', 'EWA BEACH', 'HALEIWA', 'HAUULA', 'HAWAII KAI',\n",
    "       'HONOLULU', 'KAHALA', 'KAHALUU', 'KAHUKU', 'KAILUA', 'KAIMUKI',\n",
    "       'KAKAAKO', 'KALAELOA', 'KALIHI', 'KANEOHE', 'KAPAHULU', 'KAPOLEI',\n",
    "       'KUNIA', 'LAIE', 'MAILI', 'MAKAHA', 'MAKAKILO', 'MAKIKI', 'MANOA',\n",
    "       'MAPUNAPUNA', 'MCCULLY', 'MILILANI', 'MOANALUA', 'MOANALUA V',\n",
    "       'MOKULEIA', 'NANAKULI', 'NUUANU', 'PEARL CITY', 'PUNALUU',\n",
    "       'PUNCHBOWL', 'SALT LAKE', 'SCHOFIELD', 'SUNSET', 'WAHIAWA',\n",
    "       'WAIALAE', 'WAIALUA', 'WAIANAE', 'WAIKIKI', 'WAIMANALO', 'WAIPAHU',\n",
    "       'WAIPIO', '\\xa0', 'dayofweek', 'freeway','highway','street']]\n",
    "df_X.head()"
   ]
  },
  {
   "cell_type": "code",
   "execution_count": null,
   "metadata": {
    "collapsed": false,
    "scrolled": true
   },
   "outputs": [],
   "source": [
    "mapping = df_truth.drop_duplicates().drop('type_code',axis=1).sort_index()\n",
    "mapping = mapping.values.tolist()\n",
    "classes = [x[0] for x in mapping]"
   ]
  },
  {
   "cell_type": "code",
   "execution_count": null,
   "metadata": {
    "collapsed": false
   },
   "outputs": [],
   "source": [
    "dtc = tree.DecisionTreeClassifier(max_depth=8)\n",
    "dtc = dtc.fit(df_X, df_truth['type_code'])\n",
    "\n",
    "dot_data = tree.export_graphviz(dtc, out_file=None, \n",
    "                         feature_names=df_X.columns,  \n",
    "                         class_names=classes,\n",
    "                         filled=True, rounded=True,  \n",
    "                         special_characters=True)\n",
    "\n",
    "graph = pydotplus.graph_from_dot_data(dot_data)  \n",
    "graph.write_png('classifier.png')\n",
    "Image(graph.create_png()) "
   ]
  },
  {
   "cell_type": "code",
   "execution_count": null,
   "metadata": {
    "collapsed": true
   },
   "outputs": [],
   "source": []
  }
 ],
 "metadata": {
  "anaconda-cloud": {},
  "kernelspec": {
   "display_name": "Python [Root]",
   "language": "python",
   "name": "Python [Root]"
  },
  "language_info": {
   "codemirror_mode": {
    "name": "ipython",
    "version": 3
   },
   "file_extension": ".py",
   "mimetype": "text/x-python",
   "name": "python",
   "nbconvert_exporter": "python",
   "pygments_lexer": "ipython3",
   "version": "3.5.2"
  }
 },
 "nbformat": 4,
 "nbformat_minor": 0
}
