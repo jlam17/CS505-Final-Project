{
 "cells": [
  {
   "cell_type": "markdown",
   "metadata": {},
   "source": [
    "# Preprocessing Scraped Data\n",
    "\n",
    "Web scraper is currently running on csa2. Data files represent data scraped every hour from the honolulu HPD [website](http://www4.honolulu.gov/hpdtraffic/MainPrograms/frmMain.asp?sSearch=All+Incidents&sSort=I_tTimeCreate)"
   ]
  },
  {
   "cell_type": "code",
   "execution_count": 2,
   "metadata": {
    "collapsed": true
   },
   "outputs": [],
   "source": [
    "import json\n",
    "import pandas as pd\n",
    "import os"
   ]
  },
  {
   "cell_type": "code",
   "execution_count": 31,
   "metadata": {
    "collapsed": false,
    "scrolled": true
   },
   "outputs": [
    {
     "name": "stdout",
     "output_type": "stream",
     "text": [
      "<class 'pandas.core.frame.DataFrame'>\n",
      "RangeIndex: 706 entries, 0 to 705\n",
      "Data columns (total 6 columns):\n",
      "address     706 non-null object\n",
      "area        706 non-null object\n",
      "date        706 non-null object\n",
      "location    706 non-null object\n",
      "time        706 non-null object\n",
      "type        706 non-null object\n",
      "dtypes: object(6)\n",
      "memory usage: 33.2+ KB\n"
     ]
    }
   ],
   "source": [
    "file_names = []\n",
    "for file in os.listdir('data/'):\n",
    "    file_names.append(file)\n",
    "\n",
    "data_master = []\n",
    "for file in file_names:\n",
    "    with open('data/' + file, 'r') as f:\n",
    "        data = json.loads(f.readline())\n",
    "        data_master = data_master + data\n",
    "        \n",
    "# print(json.dumps(data_master, indent=4))\n",
    "df_master = pd.DataFrame(data_master)\n",
    "df_master.to_csv('master_dataset.csv')\n",
    "df_master.info()"
   ]
  },
  {
   "cell_type": "code",
   "execution_count": null,
   "metadata": {
    "collapsed": true
   },
   "outputs": [],
   "source": []
  }
 ],
 "metadata": {
  "kernelspec": {
   "display_name": "Python [Root]",
   "language": "python",
   "name": "Python [Root]"
  },
  "language_info": {
   "codemirror_mode": {
    "name": "ipython",
    "version": 3
   },
   "file_extension": ".py",
   "mimetype": "text/x-python",
   "name": "python",
   "nbconvert_exporter": "python",
   "pygments_lexer": "ipython3",
   "version": "3.5.2"
  }
 },
 "nbformat": 4,
 "nbformat_minor": 0
}
