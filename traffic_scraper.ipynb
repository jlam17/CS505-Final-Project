{
 "cells": [
  {
   "cell_type": "markdown",
   "metadata": {},
   "source": [
    "# HPD Traffic Scraper "
   ]
  },
  {
   "cell_type": "code",
   "execution_count": 2,
   "metadata": {
    "collapsed": true
   },
   "outputs": [],
   "source": [
    "import requests \n",
    "from bs4 import BeautifulSoup\n",
    "import selenium\n",
    "import json\n",
    "import time"
   ]
  },
  {
   "cell_type": "code",
   "execution_count": 4,
   "metadata": {
    "collapsed": false
   },
   "outputs": [
    {
     "name": "stdout",
     "output_type": "stream",
     "text": [
      "hit\n",
      "Last seen incident: \n",
      "Latest incident: 3:59:15 PM\n",
      "Scrapped 199 datapoints\n",
      "hit\n",
      "Last seen incident: 3:59:15 PM\n",
      "Latest incident: 3:59:15 PM\n",
      "Scrapped 0 datapoints\n",
      "hit\n",
      "Last seen incident: 3:59:15 PM\n",
      "Latest incident: 3:59:15 PM\n",
      "Scrapped 0 datapoints\n",
      "hit\n",
      "Last seen incident: 3:59:15 PM\n",
      "Latest incident: 3:59:15 PM\n",
      "Scrapped 0 datapoints\n",
      "hit\n",
      "Last seen incident: 3:59:15 PM\n",
      "Latest incident: 3:59:15 PM\n",
      "Scrapped 0 datapoints\n",
      "hit\n",
      "Last seen incident: 3:59:15 PM\n",
      "Latest incident: 3:59:15 PM\n",
      "Scrapped 0 datapoints\n",
      "hit\n",
      "Last seen incident: 3:59:15 PM\n",
      "Latest incident: 3:59:15 PM\n",
      "Scrapped 0 datapoints\n",
      "hit\n",
      "Last seen incident: 3:59:15 PM\n",
      "Latest incident: 3:59:15 PM\n",
      "Scrapped 0 datapoints\n",
      "hit\n",
      "Last seen incident: 3:59:15 PM\n",
      "Latest incident: 3:59:15 PM\n",
      "Scrapped 0 datapoints\n",
      "hit\n",
      "Last seen incident: 3:59:15 PM\n",
      "Latest incident: 3:59:15 PM\n",
      "Scrapped 0 datapoints\n",
      "hit\n",
      "Last seen incident: 3:59:15 PM\n",
      "Latest incident: 3:59:15 PM\n",
      "Scrapped 0 datapoints\n",
      "hit\n",
      "Last seen incident: 3:59:15 PM\n",
      "Latest incident: 3:59:15 PM\n",
      "Scrapped 0 datapoints\n",
      "hit\n",
      "Last seen incident: 3:59:15 PM\n",
      "Latest incident: 3:59:15 PM\n",
      "Scrapped 0 datapoints\n",
      "hit\n",
      "Last seen incident: 3:59:15 PM\n",
      "Latest incident: 3:59:15 PM\n",
      "Scrapped 0 datapoints\n",
      "hit\n",
      "Last seen incident: 3:59:15 PM\n",
      "Latest incident: 3:59:15 PM\n",
      "Scrapped 0 datapoints\n",
      "hit\n",
      "Last seen incident: 3:59:15 PM\n",
      "Latest incident: 3:59:15 PM\n",
      "Scrapped 0 datapoints\n",
      "hit\n",
      "Last seen incident: 3:59:15 PM\n",
      "Latest incident: 3:59:15 PM\n",
      "Scrapped 0 datapoints\n"
     ]
    },
    {
     "ename": "KeyboardInterrupt",
     "evalue": "",
     "output_type": "error",
     "traceback": [
      "\u001b[0;31m---------------------------------------------------------------------------\u001b[0m",
      "\u001b[0;31mKeyboardInterrupt\u001b[0m                         Traceback (most recent call last)",
      "\u001b[0;32m<ipython-input-4-bc94b9797735>\u001b[0m in \u001b[0;36m<module>\u001b[0;34m()\u001b[0m\n\u001b[1;32m     32\u001b[0m \u001b[0;34m\u001b[0m\u001b[0m\n\u001b[1;32m     33\u001b[0m         \u001b[0mcounter\u001b[0m \u001b[0;34m+=\u001b[0m \u001b[0;36m1\u001b[0m\u001b[0;34m\u001b[0m\u001b[0m\n\u001b[0;32m---> 34\u001b[0;31m         \u001b[0mtime\u001b[0m\u001b[0;34m.\u001b[0m\u001b[0msleep\u001b[0m\u001b[0;34m(\u001b[0m\u001b[0;36m5\u001b[0m\u001b[0;34m)\u001b[0m\u001b[0;34m\u001b[0m\u001b[0m\n\u001b[0m\u001b[1;32m     35\u001b[0m \u001b[0;34m\u001b[0m\u001b[0m\n",
      "\u001b[0;31mKeyboardInterrupt\u001b[0m: "
     ]
    }
   ],
   "source": [
    "url = 'https://www4.honolulu.gov/hpdtraffic/MainPrograms/frmMain.asp?sSearch=All+Incidents&sSort=I_tTimeCreate'\n",
    "counter = 0\n",
    "last_seen = ''\n",
    "\n",
    "while(True):\n",
    "    print('hit')\n",
    "    response = requests.get(url)\n",
    "    if response.status_code == 200:\n",
    "        soup = BeautifulSoup(response.text, 'html.parser')\n",
    "        data = soup.find_all('tr', {'align':'left'})\n",
    "        data = data[1:]\n",
    "\n",
    "        keys = ['date','time','type','address','location','area']\n",
    "        top = list(filter(None,data[0].text.splitlines()))[1]# latest incident data\n",
    "        df_data = [] \n",
    "        \n",
    "        print('Last seen incident: ' + last_seen)\n",
    "        print('Latest incident: ' + top)\n",
    "        for incident in data:\n",
    "            \n",
    "            values = list(filter(None,incident.text.splitlines()))\n",
    "            dict_values = dict(zip(keys,values))\n",
    "            if dict_values['time'] == last_seen:\n",
    "                break\n",
    "            else:\n",
    "                df_data.append(dict_values)\n",
    "        \n",
    "        last_seen = top\n",
    "        print('Scrapped {} datapoints'.format(len(df_data)))\n",
    "        with open('data_' + str(counter) + '.txt', 'w+') as f:\n",
    "            f.write(json.dumps(df_data))\n",
    "\n",
    "        counter += 1\n",
    "        time.sleep(3600)\n",
    "    "
   ]
  },
  {
   "cell_type": "code",
   "execution_count": null,
   "metadata": {
    "collapsed": true
   },
   "outputs": [],
   "source": []
  }
 ],
 "metadata": {
  "anaconda-cloud": {},
  "kernelspec": {
   "display_name": "Python [Root]",
   "language": "python",
   "name": "Python [Root]"
  },
  "language_info": {
   "codemirror_mode": {
    "name": "ipython",
    "version": 3
   },
   "file_extension": ".py",
   "mimetype": "text/x-python",
   "name": "python",
   "nbconvert_exporter": "python",
   "pygments_lexer": "ipython3",
   "version": "3.5.2"
  }
 },
 "nbformat": 4,
 "nbformat_minor": 0
}
