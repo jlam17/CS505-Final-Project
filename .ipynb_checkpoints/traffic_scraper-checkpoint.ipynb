{
 "cells": [
  {
   "cell_type": "markdown",
   "metadata": {},
   "source": [
    "# HPD Traffic Scraper "
   ]
  },
  {
   "cell_type": "code",
   "execution_count": null,
   "metadata": {
    "collapsed": true
   },
   "outputs": [],
   "source": [
    "import requests \n",
    "from bs4 import BeautifulSoup\n",
    "import selenium\n",
    "import json\n",
    "import time"
   ]
  },
  {
   "cell_type": "code",
   "execution_count": null,
   "metadata": {
    "collapsed": false
   },
   "outputs": [],
   "source": [
    "import requests \n",
    "from bs4 import BeautifulSoup\n",
    "import selenium\n",
    "import json\n",
    "import time\n",
    "import os\n",
    "import sys\n",
    "\n",
    "url = 'https://www4.honolulu.gov/hpdtraffic/MainPrograms/frmMain.asp?sSearch=All+Incidents&sSort=I_tTimeCreate'\n",
    "counter = 0\n",
    "last_seen = ''\n",
    "\n",
    "while(True):\n",
    "\ttry:\n",
    "\t    response = requests.get(url)\n",
    "\t    if response.status_code == 200:\n",
    "\t        soup = BeautifulSoup(response.text, 'html.parser')\n",
    "\t        data = soup.find_all('tr', {'align':'left'})\n",
    "\t        data = data[1:]\n",
    "\n",
    "\t        keys = ['date','time','type','address','location','area']\n",
    "\t        top = list(filter(None,data[0].text.splitlines()))[1]# latest incident data\n",
    "\t        df_data = [] \n",
    "\t        \n",
    "\t        print('Last seen incident: ' + last_seen)\n",
    "\t        print('Latest incident: ' + top)\n",
    "\t        for incident in data:\n",
    "\t            \n",
    "\t            values = list(filter(None,incident.text.splitlines()))\n",
    "\t            dict_values = dict(zip(keys,values))\n",
    "                if dict_values['time'] == last_seen:\n",
    "\t                break\n",
    "\t            else:\n",
    "\t                df_data.append(dict_values)\n",
    "\t        \n",
    "\t        last_seen = top\n",
    "\t        print('Scrapped {} datapoints'.format(len(df_data)))\n",
    "\t        with open('data_' + str(counter) + '.txt', 'w+') as f:\n",
    "\t            f.write(json.dumps(df_data))\n",
    "\n",
    "\t        counter += 1\n",
    "\t        time.sleep(3600)\n",
    "\texcept KeyboardInterrupt:\n",
    "\t\tprint('Exiting...')\n",
    "\t\ttry:\n",
    "\t\t\tsys.exit(0)\n",
    "\t\texcept SystemExit:\n",
    "\t\t\tos._exit(0)\n",
    "\texcept:\n",
    "\t\tprint('Error')\n",
    "\t\tpass"
   ]
  },
  {
   "cell_type": "code",
   "execution_count": null,
   "metadata": {
    "collapsed": true
   },
   "outputs": [],
   "source": []
  }
 ],
 "metadata": {
  "anaconda-cloud": {},
  "kernelspec": {
   "display_name": "Python [Root]",
   "language": "python",
   "name": "Python [Root]"
  },
  "language_info": {
   "codemirror_mode": {
    "name": "ipython",
    "version": 3
   },
   "file_extension": ".py",
   "mimetype": "text/x-python",
   "name": "python",
   "nbconvert_exporter": "python",
   "pygments_lexer": "ipython3",
   "version": "3.5.2"
  }
 },
 "nbformat": 4,
 "nbformat_minor": 0
}
